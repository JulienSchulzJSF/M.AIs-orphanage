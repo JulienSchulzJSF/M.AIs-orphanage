{
 "cells": [
  {
   "cell_type": "code",
   "execution_count": 1,
   "metadata": {},
   "outputs": [
    {
     "name": "stdout",
     "output_type": "stream",
     "text": [
      "Requirement already satisfied: torch in /Users/linus/.env/venv-ai-makeathon/lib/python3.11/site-packages (2.2.2)\n",
      "Requirement already satisfied: filelock in /Users/linus/.env/venv-ai-makeathon/lib/python3.11/site-packages (from torch) (3.13.4)\n",
      "Requirement already satisfied: typing-extensions>=4.8.0 in /Users/linus/.env/venv-ai-makeathon/lib/python3.11/site-packages (from torch) (4.11.0)\n",
      "Requirement already satisfied: sympy in /Users/linus/.env/venv-ai-makeathon/lib/python3.11/site-packages (from torch) (1.12)\n",
      "Requirement already satisfied: networkx in /Users/linus/.env/venv-ai-makeathon/lib/python3.11/site-packages (from torch) (3.3)\n",
      "Requirement already satisfied: jinja2 in /Users/linus/.env/venv-ai-makeathon/lib/python3.11/site-packages (from torch) (3.1.3)\n",
      "Requirement already satisfied: fsspec in /Users/linus/.env/venv-ai-makeathon/lib/python3.11/site-packages (from torch) (2024.3.1)\n",
      "Requirement already satisfied: MarkupSafe>=2.0 in /Users/linus/.env/venv-ai-makeathon/lib/python3.11/site-packages (from jinja2->torch) (2.1.5)\n",
      "Requirement already satisfied: mpmath>=0.19 in /Users/linus/.env/venv-ai-makeathon/lib/python3.11/site-packages (from sympy->torch) (1.3.0)\n",
      "Requirement already satisfied: torch_geometric in /Users/linus/.env/venv-ai-makeathon/lib/python3.11/site-packages (2.5.3)\n",
      "Requirement already satisfied: tqdm in /Users/linus/.env/venv-ai-makeathon/lib/python3.11/site-packages (from torch_geometric) (4.66.2)\n",
      "Requirement already satisfied: numpy in /Users/linus/.env/venv-ai-makeathon/lib/python3.11/site-packages (from torch_geometric) (1.26.4)\n",
      "Requirement already satisfied: scipy in /Users/linus/.env/venv-ai-makeathon/lib/python3.11/site-packages (from torch_geometric) (1.13.0)\n",
      "Requirement already satisfied: fsspec in /Users/linus/.env/venv-ai-makeathon/lib/python3.11/site-packages (from torch_geometric) (2024.3.1)\n",
      "Requirement already satisfied: jinja2 in /Users/linus/.env/venv-ai-makeathon/lib/python3.11/site-packages (from torch_geometric) (3.1.3)\n",
      "Requirement already satisfied: aiohttp in /Users/linus/.env/venv-ai-makeathon/lib/python3.11/site-packages (from torch_geometric) (3.9.5)\n",
      "Requirement already satisfied: requests in /Users/linus/.env/venv-ai-makeathon/lib/python3.11/site-packages (from torch_geometric) (2.31.0)\n",
      "Requirement already satisfied: pyparsing in /Users/linus/.env/venv-ai-makeathon/lib/python3.11/site-packages (from torch_geometric) (3.1.2)\n",
      "Requirement already satisfied: scikit-learn in /Users/linus/.env/venv-ai-makeathon/lib/python3.11/site-packages (from torch_geometric) (1.4.2)\n",
      "Requirement already satisfied: psutil>=5.8.0 in /Users/linus/.env/venv-ai-makeathon/lib/python3.11/site-packages (from torch_geometric) (5.9.8)\n",
      "Requirement already satisfied: aiosignal>=1.1.2 in /Users/linus/.env/venv-ai-makeathon/lib/python3.11/site-packages (from aiohttp->torch_geometric) (1.3.1)\n",
      "Requirement already satisfied: attrs>=17.3.0 in /Users/linus/.env/venv-ai-makeathon/lib/python3.11/site-packages (from aiohttp->torch_geometric) (23.2.0)\n",
      "Requirement already satisfied: frozenlist>=1.1.1 in /Users/linus/.env/venv-ai-makeathon/lib/python3.11/site-packages (from aiohttp->torch_geometric) (1.4.1)\n",
      "Requirement already satisfied: multidict<7.0,>=4.5 in /Users/linus/.env/venv-ai-makeathon/lib/python3.11/site-packages (from aiohttp->torch_geometric) (6.0.5)\n",
      "Requirement already satisfied: yarl<2.0,>=1.0 in /Users/linus/.env/venv-ai-makeathon/lib/python3.11/site-packages (from aiohttp->torch_geometric) (1.9.4)\n",
      "Requirement already satisfied: MarkupSafe>=2.0 in /Users/linus/.env/venv-ai-makeathon/lib/python3.11/site-packages (from jinja2->torch_geometric) (2.1.5)\n",
      "Requirement already satisfied: charset-normalizer<4,>=2 in /Users/linus/.env/venv-ai-makeathon/lib/python3.11/site-packages (from requests->torch_geometric) (3.3.2)\n",
      "Requirement already satisfied: idna<4,>=2.5 in /Users/linus/.env/venv-ai-makeathon/lib/python3.11/site-packages (from requests->torch_geometric) (3.7)\n",
      "Requirement already satisfied: urllib3<3,>=1.21.1 in /Users/linus/.env/venv-ai-makeathon/lib/python3.11/site-packages (from requests->torch_geometric) (1.26.18)\n",
      "Requirement already satisfied: certifi>=2017.4.17 in /Users/linus/.env/venv-ai-makeathon/lib/python3.11/site-packages (from requests->torch_geometric) (2024.2.2)\n",
      "Requirement already satisfied: joblib>=1.2.0 in /Users/linus/.env/venv-ai-makeathon/lib/python3.11/site-packages (from scikit-learn->torch_geometric) (1.4.0)\n",
      "Requirement already satisfied: threadpoolctl>=2.0.0 in /Users/linus/.env/venv-ai-makeathon/lib/python3.11/site-packages (from scikit-learn->torch_geometric) (3.4.0)\n"
     ]
    }
   ],
   "source": [
    "! pip install torch\n",
    "! pip install torch_geometric"
   ]
  },
  {
   "cell_type": "code",
   "execution_count": 2,
   "metadata": {},
   "outputs": [],
   "source": [
    "import torch\n",
    "import torch.nn as nn\n",
    "import torch.nn.functional as F\n",
    "from torch_geometric.data import Data\n",
    "from torch_geometric.nn import RGCNConv\n",
    "\n",
    "class RGCN(nn.Module):\n",
    "    def __init__(self, in_feat, hidden_feat, out_feat, num_rels):\n",
    "        super(RGCN, self).__init__()\n",
    "        self.rgcn1 = RGCNConv(in_feat, hidden_feat, num_rels)\n",
    "        self.rgcn2 = RGCNConv(hidden_feat, out_feat, num_rels)\n",
    "\n",
    "    def forward(self, data):\n",
    "        x, edge_index, edge_type = data.x, data.edge_index, data.edge_attr\n",
    "\n",
    "        x = self.rgcn1(x, edge_index, edge_type)\n",
    "        x = F.relu(x)\n",
    "        x = F.dropout(x, training=self.training)\n",
    "\n",
    "        x = self.rgcn2(x, edge_index, edge_type)\n",
    "\n",
    "        return x"
   ]
  },
  {
   "cell_type": "code",
   "execution_count": 3,
   "metadata": {},
   "outputs": [
    {
     "name": "stdout",
     "output_type": "stream",
     "text": [
      "tensor([[ 0.1019, -0.3130, -1.3179,  2.1006, -0.0242,  2.6194, -0.0906, -1.2258],\n",
      "        [ 0.1092,  0.5595, -1.5334, -0.7592, -4.5224,  2.7065, -0.5410,  1.4654],\n",
      "        [ 1.6849, -1.6635, -2.2862,  0.9605, -0.8661,  3.0515, -0.9478,  2.3525]],\n",
      "       grad_fn=<AddBackward0>)\n"
     ]
    }
   ],
   "source": [
    "# Create a small heterogeneous graph\n",
    "edge_index = torch.tensor([[0, 1, 1, 2],\n",
    "                           [1, 0, 2, 1]], dtype=torch.long)\n",
    "edge_type = torch.tensor([0, 1, 0, 1], dtype=torch.long)\n",
    "x = torch.randn(3, 10)  # 3 nodes with 10 features each\n",
    "\n",
    "data = Data(x=x, edge_index=edge_index, edge_attr=edge_type)\n",
    "\n",
    "# Initialize the R-GCN model\n",
    "model = RGCN(in_feat=10, hidden_feat=16, out_feat=8, num_rels=2)\n",
    "\n",
    "# Forward pass\n",
    "output = model(data)\n",
    "\n",
    "# Print the output node features\n",
    "print(output)"
   ]
  },
  {
   "cell_type": "code",
   "execution_count": 4,
   "metadata": {},
   "outputs": [],
   "source": [
    "# define loss function and optimizer\n",
    "optimizer = torch.optim.Adam(model.parameters(), lr=0.001)\n",
    "loss_fn = nn.CrossEntropyLoss()"
   ]
  },
  {
   "cell_type": "code",
   "execution_count": 5,
   "metadata": {},
   "outputs": [],
   "source": [
    "# TODO: define real target labels\n",
    "target = torch.tensor([0, 1, 0], dtype=torch.long) "
   ]
  },
  {
   "cell_type": "code",
   "execution_count": 6,
   "metadata": {},
   "outputs": [
    {
     "name": "stdout",
     "output_type": "stream",
     "text": [
      "Epoch 0, Loss: 2.5195772647857666\n",
      "Epoch 10, Loss: 3.362293004989624\n",
      "Epoch 20, Loss: 2.1101956367492676\n",
      "Epoch 30, Loss: 1.9376786947250366\n",
      "Epoch 40, Loss: 2.263345956802368\n",
      "Epoch 50, Loss: 1.6783949136734009\n",
      "Epoch 60, Loss: 0.9202739596366882\n",
      "Epoch 70, Loss: 1.4042404890060425\n",
      "Epoch 80, Loss: 1.0002321004867554\n",
      "Epoch 90, Loss: 0.6702699065208435\n"
     ]
    }
   ],
   "source": [
    "for epoch in range(100):\n",
    "    model.train()\n",
    "    optimizer.zero_grad()\n",
    "    output = model(data)\n",
    "    loss = loss_fn(output, target)\n",
    "    loss.backward()\n",
    "    optimizer.step()\n",
    "    if epoch % 10 == 0:\n",
    "        print(f'Epoch {epoch}, Loss: {loss.item()}')"
   ]
  },
  {
   "cell_type": "code",
   "execution_count": 7,
   "metadata": {},
   "outputs": [
    {
     "name": "stdout",
     "output_type": "stream",
     "text": [
      "tensor(0.8927, grad_fn=<NllLossBackward0>)\n"
     ]
    }
   ],
   "source": [
    "# TODO: Define the target labels\n",
    "target = torch.tensor([0, 1, 0], dtype=torch.long)\n",
    "output = model(data)\n",
    "\n",
    "loss = loss_fn(output, target)\n",
    "print(loss)\n",
    "# train the model with your data\n",
    "#model.train()"
   ]
  }
 ],
 "metadata": {
  "kernelspec": {
   "display_name": ".venv",
   "language": "python",
   "name": "python3"
  },
  "language_info": {
   "codemirror_mode": {
    "name": "ipython",
    "version": 3
   },
   "file_extension": ".py",
   "mimetype": "text/x-python",
   "name": "python",
   "nbconvert_exporter": "python",
   "pygments_lexer": "ipython3",
   "version": "3.11.9"
  }
 },
 "nbformat": 4,
 "nbformat_minor": 2
}
