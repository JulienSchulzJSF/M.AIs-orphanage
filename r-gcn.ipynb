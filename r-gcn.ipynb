{
 "cells": [
  {
   "cell_type": "code",
   "execution_count": 46,
   "metadata": {},
   "outputs": [
    {
     "name": "stdout",
     "output_type": "stream",
     "text": [
      "Found existing installation: dgl 2.1.0\n",
      "Uninstalling dgl-2.1.0:\n",
      "  Successfully uninstalled dgl-2.1.0\n"
     ]
    }
   ],
   "source": [
    "!pip uninstall dgl -y"
   ]
  },
  {
   "cell_type": "code",
   "execution_count": 48,
   "metadata": {},
   "outputs": [
    {
     "name": "stdout",
     "output_type": "stream",
     "text": [
      "Already up to date.\n"
     ]
    }
   ],
   "source": [
    "! git pull\n"
   ]
  },
  {
   "cell_type": "code",
   "execution_count": 49,
   "metadata": {},
   "outputs": [
    {
     "name": "stdout",
     "output_type": "stream",
     "text": [
      "Requirement already satisfied: torch in /Users/linus/.env/venv-ai-makeathon/lib/python3.11/site-packages (2.2.2)\n",
      "Requirement already satisfied: filelock in /Users/linus/.env/venv-ai-makeathon/lib/python3.11/site-packages (from torch) (3.13.4)\n",
      "Requirement already satisfied: typing-extensions>=4.8.0 in /Users/linus/.env/venv-ai-makeathon/lib/python3.11/site-packages (from torch) (4.11.0)\n",
      "Requirement already satisfied: sympy in /Users/linus/.env/venv-ai-makeathon/lib/python3.11/site-packages (from torch) (1.12)\n",
      "Requirement already satisfied: networkx in /Users/linus/.env/venv-ai-makeathon/lib/python3.11/site-packages (from torch) (3.3)\n",
      "Requirement already satisfied: jinja2 in /Users/linus/.env/venv-ai-makeathon/lib/python3.11/site-packages (from torch) (3.1.3)\n",
      "Requirement already satisfied: fsspec in /Users/linus/.env/venv-ai-makeathon/lib/python3.11/site-packages (from torch) (2024.3.1)\n",
      "Requirement already satisfied: MarkupSafe>=2.0 in /Users/linus/.env/venv-ai-makeathon/lib/python3.11/site-packages (from jinja2->torch) (2.1.5)\n",
      "Requirement already satisfied: mpmath>=0.19 in /Users/linus/.env/venv-ai-makeathon/lib/python3.11/site-packages (from sympy->torch) (1.3.0)\n",
      "Looking in links: https://data.dgl.ai/wheels/cu121/repo.html\n",
      "Requirement already satisfied: dgl in /Users/linus/.env/venv-ai-makeathon/lib/python3.11/site-packages (2.1.0)\n",
      "Requirement already satisfied: numpy>=1.14.0 in /Users/linus/.env/venv-ai-makeathon/lib/python3.11/site-packages (from dgl) (1.26.4)\n",
      "Requirement already satisfied: scipy>=1.1.0 in /Users/linus/.env/venv-ai-makeathon/lib/python3.11/site-packages (from dgl) (1.13.0)\n",
      "Requirement already satisfied: networkx>=2.1 in /Users/linus/.env/venv-ai-makeathon/lib/python3.11/site-packages (from dgl) (3.3)\n",
      "Requirement already satisfied: requests>=2.19.0 in /Users/linus/.env/venv-ai-makeathon/lib/python3.11/site-packages (from dgl) (2.31.0)\n",
      "Requirement already satisfied: tqdm in /Users/linus/.env/venv-ai-makeathon/lib/python3.11/site-packages (from dgl) (4.66.2)\n",
      "Requirement already satisfied: psutil>=5.8.0 in /Users/linus/.env/venv-ai-makeathon/lib/python3.11/site-packages (from dgl) (5.9.8)\n",
      "Requirement already satisfied: torchdata>=0.5.0 in /Users/linus/.env/venv-ai-makeathon/lib/python3.11/site-packages (from dgl) (0.7.1)\n",
      "Requirement already satisfied: charset-normalizer<4,>=2 in /Users/linus/.env/venv-ai-makeathon/lib/python3.11/site-packages (from requests>=2.19.0->dgl) (3.3.2)\n",
      "Requirement already satisfied: idna<4,>=2.5 in /Users/linus/.env/venv-ai-makeathon/lib/python3.11/site-packages (from requests>=2.19.0->dgl) (3.7)\n",
      "Requirement already satisfied: urllib3<3,>=1.21.1 in /Users/linus/.env/venv-ai-makeathon/lib/python3.11/site-packages (from requests>=2.19.0->dgl) (2.2.1)\n",
      "Requirement already satisfied: certifi>=2017.4.17 in /Users/linus/.env/venv-ai-makeathon/lib/python3.11/site-packages (from requests>=2.19.0->dgl) (2024.2.2)\n",
      "Requirement already satisfied: torch>=2 in /Users/linus/.env/venv-ai-makeathon/lib/python3.11/site-packages (from torchdata>=0.5.0->dgl) (2.2.2)\n",
      "Requirement already satisfied: filelock in /Users/linus/.env/venv-ai-makeathon/lib/python3.11/site-packages (from torch>=2->torchdata>=0.5.0->dgl) (3.13.4)\n",
      "Requirement already satisfied: typing-extensions>=4.8.0 in /Users/linus/.env/venv-ai-makeathon/lib/python3.11/site-packages (from torch>=2->torchdata>=0.5.0->dgl) (4.11.0)\n",
      "Requirement already satisfied: sympy in /Users/linus/.env/venv-ai-makeathon/lib/python3.11/site-packages (from torch>=2->torchdata>=0.5.0->dgl) (1.12)\n",
      "Requirement already satisfied: jinja2 in /Users/linus/.env/venv-ai-makeathon/lib/python3.11/site-packages (from torch>=2->torchdata>=0.5.0->dgl) (3.1.3)\n",
      "Requirement already satisfied: fsspec in /Users/linus/.env/venv-ai-makeathon/lib/python3.11/site-packages (from torch>=2->torchdata>=0.5.0->dgl) (2024.3.1)\n",
      "Requirement already satisfied: MarkupSafe>=2.0 in /Users/linus/.env/venv-ai-makeathon/lib/python3.11/site-packages (from jinja2->torch>=2->torchdata>=0.5.0->dgl) (2.1.5)\n",
      "Requirement already satisfied: mpmath>=0.19 in /Users/linus/.env/venv-ai-makeathon/lib/python3.11/site-packages (from sympy->torch>=2->torchdata>=0.5.0->dgl) (1.3.0)\n",
      "Requirement already satisfied: pandas in /Users/linus/.env/venv-ai-makeathon/lib/python3.11/site-packages (2.2.2)\n",
      "Requirement already satisfied: numpy>=1.23.2 in /Users/linus/.env/venv-ai-makeathon/lib/python3.11/site-packages (from pandas) (1.26.4)\n",
      "Requirement already satisfied: python-dateutil>=2.8.2 in /Users/linus/.env/venv-ai-makeathon/lib/python3.11/site-packages (from pandas) (2.9.0.post0)\n",
      "Requirement already satisfied: pytz>=2020.1 in /Users/linus/.env/venv-ai-makeathon/lib/python3.11/site-packages (from pandas) (2024.1)\n",
      "Requirement already satisfied: tzdata>=2022.7 in /Users/linus/.env/venv-ai-makeathon/lib/python3.11/site-packages (from pandas) (2024.1)\n",
      "Requirement already satisfied: six>=1.5 in /Users/linus/.env/venv-ai-makeathon/lib/python3.11/site-packages (from python-dateutil>=2.8.2->pandas) (1.16.0)\n",
      "Requirement already satisfied: pyyaml in /Users/linus/.env/venv-ai-makeathon/lib/python3.11/site-packages (6.0.1)\n",
      "Requirement already satisfied: pydantic in /Users/linus/.env/venv-ai-makeathon/lib/python3.11/site-packages (2.7.1)\n",
      "Requirement already satisfied: annotated-types>=0.4.0 in /Users/linus/.env/venv-ai-makeathon/lib/python3.11/site-packages (from pydantic) (0.6.0)\n",
      "Requirement already satisfied: pydantic-core==2.18.2 in /Users/linus/.env/venv-ai-makeathon/lib/python3.11/site-packages (from pydantic) (2.18.2)\n",
      "Requirement already satisfied: typing-extensions>=4.6.1 in /Users/linus/.env/venv-ai-makeathon/lib/python3.11/site-packages (from pydantic) (4.11.0)\n"
     ]
    }
   ],
   "source": [
    "# Your code that installs packages goes here\n",
    "! pip install torch\n",
    "#! pip install dgl -f https://data.dgl.ai/wheels/repo.html\n",
    "#! pip install dgl-cu101==0.6.1\n",
    "! pip install  dgl -f https://data.dgl.ai/wheels/cu121/repo.html\n",
    "! pip install pandas\n",
    "! pip install pyyaml\n",
    "! pip install pydantic"
   ]
  },
  {
   "cell_type": "code",
   "execution_count": null,
   "metadata": {},
   "outputs": [],
   "source": [
    "print(torch.__version__)"
   ]
  },
  {
   "cell_type": "code",
   "execution_count": null,
   "metadata": {},
   "outputs": [],
   "source": [
    "import torch\n",
    "import dgl.nn as dglnn"
   ]
  },
  {
   "cell_type": "code",
   "execution_count": null,
   "metadata": {},
   "outputs": [],
   "source": [
    "import dgl\n",
    "import dgl.function as fn\n",
    "import torch\n",
    "import torch.nn as nn\n",
    "import torch.nn.functional as F"
   ]
  },
  {
   "cell_type": "code",
   "execution_count": null,
   "metadata": {},
   "outputs": [],
   "source": [
    "\n",
    "class RGCN(nn.Module):\n",
    "    def __init__(self, in_feat, hidden_feat, out_feat, num_rels):\n",
    "        super(RGCN, self).__init__()\n",
    "        self.W = nn.ModuleList([\n",
    "            nn.Linear(in_feat, hidden_feat) for _ in range(num_rels*2)\n",
    "        ])\n",
    "        self.loop_W = nn.Linear(in_feat, hidden_feat)\n",
    "        self.out_W = nn.Linear(hidden_feat, out_feat)\n",
    "\n",
    "    def forward(self, g, feats):\n",
    "        g = g.local_var()\n",
    "        g.ndata['h'] = feats\n",
    "        \n",
    "        # Apply relation-specific weights\n",
    "        for i in range(g.number_of_relations()):\n",
    "            g.apply_edges(fn.copy_u('h', 'msg'), etype=g.etypes[i])\n",
    "            g.send_and_recv((g.edges(etypes=g.etypes[i], form='uv')[0],\n",
    "                            g.edges(etypes=g.etypes[i], form='uv')[1]),\n",
    "                            [fn.mean('msg', 'h')], \n",
    "                            [self.W[i]], \n",
    "                            g.etypes[i])\n",
    "        \n",
    "        # Self-loop\n",
    "        loop_messages = self.loop_W(g.ndata['h'])\n",
    "        g.ndata['h'] = g.ndata['h'] + loop_messages\n",
    "        \n",
    "        # Output projection\n",
    "        output = self.out_W(g.ndata['h'])\n",
    "        \n",
    "        return output"
   ]
  }
 ],
 "metadata": {
  "kernelspec": {
   "display_name": "Python 3",
   "language": "python",
   "name": "python3"
  },
  "language_info": {
   "codemirror_mode": {
    "name": "ipython",
    "version": 3
   },
   "file_extension": ".py",
   "mimetype": "text/x-python",
   "name": "python",
   "nbconvert_exporter": "python",
   "pygments_lexer": "ipython3",
   "version": "3.11.9"
  }
 },
 "nbformat": 4,
 "nbformat_minor": 2
}
