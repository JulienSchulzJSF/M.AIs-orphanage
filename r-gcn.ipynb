{
 "cells": [
  {
   "cell_type": "code",
   "execution_count": null,
   "metadata": {},
   "outputs": [],
   "source": [
    "!pip uninstall dgl -y"
   ]
  },
  {
   "cell_type": "code",
   "execution_count": null,
   "metadata": {},
   "outputs": [],
   "source": [
    "! git pull\n"
   ]
  },
  {
   "cell_type": "code",
   "execution_count": null,
   "metadata": {},
   "outputs": [],
   "source": [
    "# Your code that installs packages goes here\n",
    "! pip install torch\n",
    "#! pip install dgl -f https://data.dgl.ai/wheels/repo.html\n",
    "#! pip install dgl-cu101==0.6.1\n",
    "! pip install  dgl -f https://data.dgl.ai/wheels/cu121/repo.html\n",
    "! pip install pandas\n",
    "! pip install pyyaml\n",
    "! pip install pydantic"
   ]
  },
  {
   "cell_type": "code",
   "execution_count": null,
   "metadata": {},
   "outputs": [],
   "source": [
    "print(torch.__version__)"
   ]
  },
  {
   "cell_type": "code",
   "execution_count": null,
   "metadata": {},
   "outputs": [],
   "source": [
    "import torch\n",
    "import dgl.nn as dglnn"
   ]
  },
  {
   "cell_type": "code",
   "execution_count": null,
   "metadata": {},
   "outputs": [],
   "source": [
    "import dgl\n",
    "import dgl.function as fn\n",
    "import torch\n",
    "import torch.nn as nn\n",
    "import torch.nn.functional as F"
   ]
  },
  {
   "cell_type": "code",
   "execution_count": null,
   "metadata": {},
   "outputs": [],
   "source": [
    "\n",
    "class RGCN(nn.Module):\n",
    "    def __init__(self, in_feat, hidden_feat, out_feat, num_rels):\n",
    "        super(RGCN, self).__init__()\n",
    "        self.W = nn.ModuleList([\n",
    "            nn.Linear(in_feat, hidden_feat) for _ in range(num_rels*2)\n",
    "        ])\n",
    "        self.loop_W = nn.Linear(in_feat, hidden_feat)\n",
    "        self.out_W = nn.Linear(hidden_feat, out_feat)\n",
    "\n",
    "    def forward(self, g, feats):\n",
    "        g = g.local_var()\n",
    "        g.ndata['h'] = feats\n",
    "        \n",
    "        # Apply relation-specific weights\n",
    "        for i in range(g.number_of_relations()):\n",
    "            g.apply_edges(fn.copy_u('h', 'msg'), etype=g.etypes[i])\n",
    "            g.send_and_recv((g.edges(etypes=g.etypes[i], form='uv')[0],\n",
    "                            g.edges(etypes=g.etypes[i], form='uv')[1]),\n",
    "                            [fn.mean('msg', 'h')], \n",
    "                            [self.W[i]], \n",
    "                            g.etypes[i])\n",
    "        \n",
    "        # Self-loop\n",
    "        loop_messages = self.loop_W(g.ndata['h'])\n",
    "        g.ndata['h'] = g.ndata['h'] + loop_messages\n",
    "        \n",
    "        # Output projection\n",
    "        output = self.out_W(g.ndata['h'])\n",
    "        \n",
    "        return output"
   ]
  }
 ],
 "metadata": {
  "kernelspec": {
   "display_name": "Python 3",
   "language": "python",
   "name": "python3"
  },
  "language_info": {
   "codemirror_mode": {
    "name": "ipython",
    "version": 3
   },
   "file_extension": ".py",
   "mimetype": "text/x-python",
   "name": "python",
   "nbconvert_exporter": "python",
   "pygments_lexer": "ipython3",
   "version": "3.11.9"
  }
 },
 "nbformat": 4,
 "nbformat_minor": 2
}
